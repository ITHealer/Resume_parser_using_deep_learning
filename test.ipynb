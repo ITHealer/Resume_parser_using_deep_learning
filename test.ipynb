{
  "nbformat": 4,
  "nbformat_minor": 0,
  "metadata": {
    "colab": {
      "name": "test.ipynb",
      "provenance": [],
      "collapsed_sections": []
    },
    "kernelspec": {
      "name": "python3",
      "display_name": "Python 3"
    },
    "language_info": {
      "name": "python"
    }
  },
  "cells": [
    {
      "cell_type": "code",
      "execution_count": null,
      "metadata": {
        "id": "2jqAvCUxsYEf"
      },
      "outputs": [],
      "source": [
        "# Installing the libraries for project\n",
        "!pip install -U pip setuptools wheel\n",
        "!pip install -U spacy\n",
        "!pip install spacy-transformers\n",
        "!python -m spacy download en_core_web_trf\n"
      ]
    },
    {
      "cell_type": "code",
      "source": [
        "# Connecting to google drive\n",
        "#Taken help from https://stackoverflow.com/questions/71695387/connecting-to-a-different-google-drive-than-the-one-logged-into-google-colab/71696254#71696254\n",
        "!sudo add-apt-repository ppa:alessandro-strada/ppa\n",
        "!sudo apt update && sudo apt install google-drive-ocamlfuse\n",
        "!google-drive-ocamlfuse\n",
        "\n",
        "!sudo apt-get install w3m # to act as web browser \n",
        "!xdg-settings set default-web-browser w3m.desktop # to set default browser\n",
        "\n",
        "\n",
        "%cd /content\n",
        "!mkdir gdrive\n",
        "%cd gdrive\n",
        "!mkdir \"My Drive\"\n",
        "!google-drive-ocamlfuse \"/content/gdrive/My Drive\""
      ],
      "metadata": {
        "id": "9GqFsTn5spjx"
      },
      "execution_count": null,
      "outputs": []
    },
    {
      "cell_type": "code",
      "source": [
        "import os \n",
        "import json\n",
        "import pandas as pd \n",
        "import numpy as np\n",
        "import matplotlib.pyplot as plt\n",
        "import spacy \n",
        "from spacy.tokens import DocBin\n",
        "from tqdm import tqdm\n",
        "import re\n"
      ],
      "metadata": {
        "id": "p4NRFKm7uV3M"
      },
      "execution_count": null,
      "outputs": []
    },
    {
      "cell_type": "code",
      "source": [
        "!pip install tika\n"
      ],
      "metadata": {
        "colab": {
          "base_uri": "https://localhost:8080/"
        },
        "id": "6bosc5LZt1zg",
        "outputId": "5c8a0647-2091-49f0-b005-9bf3474cdbd6"
      },
      "execution_count": null,
      "outputs": [
        {
          "output_type": "stream",
          "name": "stdout",
          "text": [
            "Collecting tika\n",
            "  Downloading tika-1.24.tar.gz (28 kB)\n",
            "  Preparing metadata (setup.py) ... \u001b[?25l\u001b[?25hdone\n",
            "Requirement already satisfied: setuptools in /usr/local/lib/python3.7/dist-packages (from tika) (62.1.0)\n",
            "Requirement already satisfied: requests in /usr/local/lib/python3.7/dist-packages (from tika) (2.23.0)\n",
            "Requirement already satisfied: certifi>=2017.4.17 in /usr/local/lib/python3.7/dist-packages (from requests->tika) (2021.10.8)\n",
            "Requirement already satisfied: idna<3,>=2.5 in /usr/local/lib/python3.7/dist-packages (from requests->tika) (2.10)\n",
            "Requirement already satisfied: urllib3!=1.25.0,!=1.25.1,<1.26,>=1.21.1 in /usr/local/lib/python3.7/dist-packages (from requests->tika) (1.24.3)\n",
            "Requirement already satisfied: chardet<4,>=3.0.2 in /usr/local/lib/python3.7/dist-packages (from requests->tika) (3.0.4)\n",
            "Building wheels for collected packages: tika\n",
            "  Building wheel for tika (setup.py) ... \u001b[?25l\u001b[?25hdone\n",
            "  Created wheel for tika: filename=tika-1.24-py3-none-any.whl size=32891 sha256=ade84fbaca903b0f8f1ef63cf6389736e514465f336407ad21979da10ef8ebdc\n",
            "  Stored in directory: /root/.cache/pip/wheels/ec/2b/38/58ff05467a742e32f67f5d0de048fa046e764e2fbb25ac93f3\n",
            "Successfully built tika\n",
            "Installing collected packages: tika\n",
            "Successfully installed tika-1.24\n",
            "\u001b[33mWARNING: Running pip as the 'root' user can result in broken permissions and conflicting behaviour with the system package manager. It is recommended to use a virtual environment instead: https://pip.pypa.io/warnings/venv\u001b[0m\u001b[33m\n",
            "\u001b[0m"
          ]
        }
      ]
    },
    {
      "cell_type": "code",
      "source": [
        "os.chdir('/content/gdrive/My Drive/appliedai/assignment/case_study_2')"
      ],
      "metadata": {
        "id": "essg3lnruYkg"
      },
      "execution_count": null,
      "outputs": []
    },
    {
      "cell_type": "code",
      "source": [
        "sub_directory_for_resume = 'naukri_resumes'\n",
        "files_list = os.listdir('naukri_resumes')\n"
      ],
      "metadata": {
        "id": "Ycq9VjyEuNim"
      },
      "execution_count": null,
      "outputs": []
    },
    {
      "cell_type": "code",
      "source": [
        "def pdf_to_text(filepath):\n",
        "  '''Extracts the text data from the pdf'''\n",
        "  raw = parser.from_file(complete_file_path)\n",
        "  text = raw['content']\n",
        "  return text\n"
      ],
      "metadata": {
        "id": "8Jqt9MFE1GAD"
      },
      "execution_count": null,
      "outputs": []
    },
    {
      "cell_type": "code",
      "source": [
        "def preprocess(text):\n",
        "  text = \"\".join([s for s in text.splitlines(True) if s.strip(\"\\r\\n\")])\n",
        "  # text = re.sub('[^A-Za-z0-9\\n]+', ' ', text)\n",
        "  return text"
      ],
      "metadata": {
        "id": "0fzrS5Zuygsp"
      },
      "execution_count": null,
      "outputs": []
    },
    {
      "cell_type": "code",
      "source": [
        "from tika import parser\n",
        "complete_file_path = os.path.join(sub_directory_for_resume,files_list[98])\n",
        "\n",
        "text = pdf_to_text(complete_file_path)\n",
        "text = preprocess(text)"
      ],
      "metadata": {
        "id": "se4lAfNZuFmE"
      },
      "execution_count": null,
      "outputs": []
    },
    {
      "cell_type": "code",
      "source": [
        "nlp = spacy.load('generated_model/model-best')\n"
      ],
      "metadata": {
        "id": "o0q9B4jhuRK-"
      },
      "execution_count": null,
      "outputs": []
    },
    {
      "cell_type": "code",
      "source": [
        "for doc in nlp.pipe([text], disable=[\"tagger\", \"parser\"]):\n",
        "  for ent in doc.ents:\n",
        "      text_name = re.sub('[^A-Za-z0-9]+', ' ', ent.text).strip()\n",
        "      print((text_name,ent.label_))\n",
        "    # print([(ent.text, ent.label_) for ent in doc.ents])\n"
      ],
      "metadata": {
        "colab": {
          "base_uri": "https://localhost:8080/"
        },
        "id": "H9uhaqMgu_Aj",
        "outputId": "57e463f3-5f09-4729-a299-a0b1e3e12bca"
      },
      "execution_count": 32,
      "outputs": [
        {
          "output_type": "stream",
          "name": "stderr",
          "text": [
            "/usr/local/lib/python3.7/dist-packages/torch/autocast_mode.py:141: UserWarning: User provided device_type of 'cuda', but CUDA is not available. Disabling\n",
            "  warnings.warn('User provided device_type of \\'cuda\\', but CUDA is not available. Disabling')\n"
          ]
        },
        {
          "output_type": "stream",
          "name": "stdout",
          "text": [
            "('1 7', 'DEGREE')\n",
            "('Manager', 'JOB_TITLE')\n",
            "('Capgemini', 'TOOL')\n",
            "('Bangalore Bengaluru', 'EDUC')\n",
            "('Secunderabad Bengaluru Bangalore', 'EDUC')\n",
            "('IT Software Software Services', 'SKILL')\n",
            "('Manager', 'SKILL')\n",
            "('IT Project Manager', 'JOB_TITLE')\n",
            "('Business Analysis', 'SKILL')\n",
            "('2 7', 'DEGREE')\n",
            "('13 years of rich experience', 'EXPERIENCE')\n",
            "('IT Business Analysis', 'SKILL')\n",
            "('Project Management', 'SKILL')\n",
            "('Product Management', 'SKILL')\n",
            "('EMEA', 'TOOL')\n",
            "('APAC', 'TOOL')\n",
            "('RSM', 'TOOL')\n",
            "('SAMCAM', 'TOOL')\n",
            "('Herbalife', 'TOOL')\n",
            "('Google', 'TOOL')\n",
            "('Capgemini as', 'ORG')\n",
            "('Manager Senior Business Analyst', 'EXPERIENCE')\n",
            "('3 7', 'DEGREE')\n",
            "('RCA', 'TOOL')\n",
            "('SQL', 'TOOL')\n",
            "('Splunk logs', 'TOOL')\n",
            "('Google Maps', 'TOOL')\n",
            "('4 7', 'DEGREE')\n",
            "('C Edge Technologies Ltd as System Analyst Mar 2010 to Aug 2014', 'ORG')\n",
            "('MS Excel', 'TOOL')\n",
            "('VBA', 'TOOL')\n",
            "('5 7', 'DEGREE')\n",
            "('GOOGLE MAPS 2019 2 Year s 0 Month s SAP MM 2010 1 Year s 2 Month s', 'TOOL')\n",
            "('SQL Server 2021 9 Year s 5 Month s Ms Visio Confluence Postman 2019 2 Year s 5 Month s Webservices SOAP Balsamiq 2017 6 Year s 6 Month s Jira TFS SQL RPA for BA 2017 3 Year s 4 Month s', 'TOOL')\n",
            "('Sr Project Leader Duration Nov 2016 Dec 2016', 'EXPERIENCE')\n",
            "('business analysis', 'SKILL')\n",
            "('6 7', 'DEGREE')\n",
            "('Sr Project Leader Duration Apr 2016 Jun 2016', 'EXPERIENCE')\n",
            "('Sr Project Leader Duration Apr 2014 May 2014', 'EXPERIENCE')\n",
            "('NET Framework', 'TOOL')\n",
            "('SQL Server', 'TOOL')\n",
            "('PLSQL', 'TOOL')\n",
            "('7 7', 'DEGREE')\n"
          ]
        }
      ]
    },
    {
      "cell_type": "code",
      "source": [
        "f=0\n",
        "for ent in doc.ents:\n",
        "   if ent.label_=='DEGREE':\n",
        "     label = re.sub('[^A-Za-z]+', '', ent.text).strip()\n",
        "     if label.strip()=='':\n",
        "       f=1\n",
        "   if f==1:\n",
        "     pass\n",
        "   else:\n",
        "     text_name = re.sub('[^A-Za-z0-9]+', ' ', ent.text).strip()\n",
        "     print((text_name,ent.label_))\n",
        "     f=0\n"
      ],
      "metadata": {
        "id": "UUMf9mZeBu-H"
      },
      "execution_count": null,
      "outputs": []
    },
    {
      "cell_type": "code",
      "source": [
        ""
      ],
      "metadata": {
        "id": "BoKPN9ua2Xy-"
      },
      "execution_count": null,
      "outputs": []
    }
  ]
}